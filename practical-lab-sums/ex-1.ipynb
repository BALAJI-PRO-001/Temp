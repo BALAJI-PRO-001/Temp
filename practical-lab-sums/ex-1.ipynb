{
  "metadata": {
    "kernelspec": {
      "name": "python",
      "display_name": "Python (Pyodide)",
      "language": "python"
    },
    "language_info": {
      "codemirror_mode": {
        "name": "python",
        "version": 3
      },
      "file_extension": ".py",
      "mimetype": "text/x-python",
      "name": "python",
      "nbconvert_exporter": "python",
      "pygments_lexer": "ipython3",
      "version": "3.8"
    }
  },
  "nbformat_minor": 4,
  "nbformat": 4,
  "cells": [
    {
      "cell_type": "code",
      "source": "import pandas as pd",
      "metadata": {
        "trusted": true
      },
      "outputs": [],
      "execution_count": null
    },
    {
      "cell_type": "code",
      "source": "df = pd.read_csv(\"./data/students-data.csv\");",
      "metadata": {
        "trusted": true
      },
      "outputs": [],
      "execution_count": 2
    },
    {
      "cell_type": "code",
      "source": "df",
      "metadata": {
        "trusted": true
      },
      "outputs": [
        {
          "execution_count": 3,
          "output_type": "execute_result",
          "data": {
            "text/plain": "            Name  RegNo    m1    m2    m3 Result\n0    Alice Smith  101.0  85.0  90.0  88.0   Pass\n1    Bob Johnson  102.0  70.0   NaN  80.0   Pass\n2  Charlie Brown  103.0  45.0  50.0   NaN   Fail\n3      Daisy Lee  104.0   NaN  88.0  95.0   Pass\n4    Ethan Davis  105.0  60.0  58.0  65.0   Pass\n5   Fiona Garcia  106.0  40.0   NaN  38.0   Fail\n6  George Harris  107.0  75.0  80.0  85.0   Pass\n7  Hannah Wilson    NaN  50.0  48.0  52.0   Fail\n8   Ian Martinez  109.0  88.0  92.0   NaN   Pass\n9     Jane Clark  110.0  68.0  70.0   NaN   Pass",
            "text/html": "<div>\n<style scoped>\n    .dataframe tbody tr th:only-of-type {\n        vertical-align: middle;\n    }\n\n    .dataframe tbody tr th {\n        vertical-align: top;\n    }\n\n    .dataframe thead th {\n        text-align: right;\n    }\n</style>\n<table border=\"1\" class=\"dataframe\">\n  <thead>\n    <tr style=\"text-align: right;\">\n      <th></th>\n      <th>Name</th>\n      <th>RegNo</th>\n      <th>m1</th>\n      <th>m2</th>\n      <th>m3</th>\n      <th>Result</th>\n    </tr>\n  </thead>\n  <tbody>\n    <tr>\n      <th>0</th>\n      <td>Alice Smith</td>\n      <td>101.0</td>\n      <td>85.0</td>\n      <td>90.0</td>\n      <td>88.0</td>\n      <td>Pass</td>\n    </tr>\n    <tr>\n      <th>1</th>\n      <td>Bob Johnson</td>\n      <td>102.0</td>\n      <td>70.0</td>\n      <td>NaN</td>\n      <td>80.0</td>\n      <td>Pass</td>\n    </tr>\n    <tr>\n      <th>2</th>\n      <td>Charlie Brown</td>\n      <td>103.0</td>\n      <td>45.0</td>\n      <td>50.0</td>\n      <td>NaN</td>\n      <td>Fail</td>\n    </tr>\n    <tr>\n      <th>3</th>\n      <td>Daisy Lee</td>\n      <td>104.0</td>\n      <td>NaN</td>\n      <td>88.0</td>\n      <td>95.0</td>\n      <td>Pass</td>\n    </tr>\n    <tr>\n      <th>4</th>\n      <td>Ethan Davis</td>\n      <td>105.0</td>\n      <td>60.0</td>\n      <td>58.0</td>\n      <td>65.0</td>\n      <td>Pass</td>\n    </tr>\n    <tr>\n      <th>5</th>\n      <td>Fiona Garcia</td>\n      <td>106.0</td>\n      <td>40.0</td>\n      <td>NaN</td>\n      <td>38.0</td>\n      <td>Fail</td>\n    </tr>\n    <tr>\n      <th>6</th>\n      <td>George Harris</td>\n      <td>107.0</td>\n      <td>75.0</td>\n      <td>80.0</td>\n      <td>85.0</td>\n      <td>Pass</td>\n    </tr>\n    <tr>\n      <th>7</th>\n      <td>Hannah Wilson</td>\n      <td>NaN</td>\n      <td>50.0</td>\n      <td>48.0</td>\n      <td>52.0</td>\n      <td>Fail</td>\n    </tr>\n    <tr>\n      <th>8</th>\n      <td>Ian Martinez</td>\n      <td>109.0</td>\n      <td>88.0</td>\n      <td>92.0</td>\n      <td>NaN</td>\n      <td>Pass</td>\n    </tr>\n    <tr>\n      <th>9</th>\n      <td>Jane Clark</td>\n      <td>110.0</td>\n      <td>68.0</td>\n      <td>70.0</td>\n      <td>NaN</td>\n      <td>Pass</td>\n    </tr>\n  </tbody>\n</table>\n</div>"
          },
          "metadata": {}
        }
      ],
      "execution_count": 3
    },
    {
      "cell_type": "code",
      "source": "df.head(2)",
      "metadata": {
        "trusted": true
      },
      "outputs": [
        {
          "execution_count": 4,
          "output_type": "execute_result",
          "data": {
            "text/plain": "          Name  RegNo    m1    m2    m3 Result\n0  Alice Smith  101.0  85.0  90.0  88.0   Pass\n1  Bob Johnson  102.0  70.0   NaN  80.0   Pass",
            "text/html": "<div>\n<style scoped>\n    .dataframe tbody tr th:only-of-type {\n        vertical-align: middle;\n    }\n\n    .dataframe tbody tr th {\n        vertical-align: top;\n    }\n\n    .dataframe thead th {\n        text-align: right;\n    }\n</style>\n<table border=\"1\" class=\"dataframe\">\n  <thead>\n    <tr style=\"text-align: right;\">\n      <th></th>\n      <th>Name</th>\n      <th>RegNo</th>\n      <th>m1</th>\n      <th>m2</th>\n      <th>m3</th>\n      <th>Result</th>\n    </tr>\n  </thead>\n  <tbody>\n    <tr>\n      <th>0</th>\n      <td>Alice Smith</td>\n      <td>101.0</td>\n      <td>85.0</td>\n      <td>90.0</td>\n      <td>88.0</td>\n      <td>Pass</td>\n    </tr>\n    <tr>\n      <th>1</th>\n      <td>Bob Johnson</td>\n      <td>102.0</td>\n      <td>70.0</td>\n      <td>NaN</td>\n      <td>80.0</td>\n      <td>Pass</td>\n    </tr>\n  </tbody>\n</table>\n</div>"
          },
          "metadata": {}
        }
      ],
      "execution_count": 4
    },
    {
      "cell_type": "code",
      "source": "df.tail(2)",
      "metadata": {
        "trusted": true
      },
      "outputs": [
        {
          "execution_count": 5,
          "output_type": "execute_result",
          "data": {
            "text/plain": "           Name  RegNo    m1    m2  m3 Result\n8  Ian Martinez  109.0  88.0  92.0 NaN   Pass\n9    Jane Clark  110.0  68.0  70.0 NaN   Pass",
            "text/html": "<div>\n<style scoped>\n    .dataframe tbody tr th:only-of-type {\n        vertical-align: middle;\n    }\n\n    .dataframe tbody tr th {\n        vertical-align: top;\n    }\n\n    .dataframe thead th {\n        text-align: right;\n    }\n</style>\n<table border=\"1\" class=\"dataframe\">\n  <thead>\n    <tr style=\"text-align: right;\">\n      <th></th>\n      <th>Name</th>\n      <th>RegNo</th>\n      <th>m1</th>\n      <th>m2</th>\n      <th>m3</th>\n      <th>Result</th>\n    </tr>\n  </thead>\n  <tbody>\n    <tr>\n      <th>8</th>\n      <td>Ian Martinez</td>\n      <td>109.0</td>\n      <td>88.0</td>\n      <td>92.0</td>\n      <td>NaN</td>\n      <td>Pass</td>\n    </tr>\n    <tr>\n      <th>9</th>\n      <td>Jane Clark</td>\n      <td>110.0</td>\n      <td>68.0</td>\n      <td>70.0</td>\n      <td>NaN</td>\n      <td>Pass</td>\n    </tr>\n  </tbody>\n</table>\n</div>"
          },
          "metadata": {}
        }
      ],
      "execution_count": 5
    }
  ]
}