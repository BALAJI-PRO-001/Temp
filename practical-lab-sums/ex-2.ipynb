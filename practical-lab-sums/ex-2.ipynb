{
  "metadata": {
    "kernelspec": {
      "name": "python",
      "display_name": "Python (Pyodide)",
      "language": "python"
    },
    "language_info": {
      "codemirror_mode": {
        "name": "python",
        "version": 3
      },
      "file_extension": ".py",
      "mimetype": "text/x-python",
      "name": "python",
      "nbconvert_exporter": "python",
      "pygments_lexer": "ipython3",
      "version": "3.8"
    }
  },
  "nbformat_minor": 4,
  "nbformat": 4,
  "cells": [
    {
      "cell_type": "code",
      "source": "import pandas as pd",
      "metadata": {
        "trusted": true
      },
      "outputs": [
        {
          "name": "stderr",
          "text": "<ipython-input-4-7dd3504c366f>:1: DeprecationWarning: \nPyarrow will become a required dependency of pandas in the next major release of pandas (pandas 3.0),\n(to allow more performant data types, such as the Arrow string type, and better interoperability with other libraries)\nbut was not found to be installed on your system.\nIf this would cause problems for you,\nplease provide us feedback at https://github.com/pandas-dev/pandas/issues/54466\n        \n  import pandas as pd\n",
          "output_type": "stream"
        }
      ],
      "execution_count": 4
    },
    {
      "cell_type": "code",
      "source": "df = pd.read_csv(\"./datasets/students-data.csv\")",
      "metadata": {
        "trusted": true
      },
      "outputs": [],
      "execution_count": 5
    },
    {
      "cell_type": "code",
      "source": "df",
      "metadata": {
        "trusted": true
      },
      "outputs": [
        {
          "execution_count": 6,
          "output_type": "execute_result",
          "data": {
            "text/plain": "            Name  RegNo    m1    m2    m3 Result\n0    Alice Smith  101.0  85.0  90.0  88.0   Pass\n1    Bob Johnson  102.0  70.0   NaN  80.0   Pass\n2  Charlie Brown  103.0  45.0  50.0   NaN   Fail\n3      Daisy Lee  104.0   NaN  88.0  95.0   Pass\n4    Ethan Davis  105.0  60.0  58.0  65.0   Pass\n5   Fiona Garcia  106.0  40.0   NaN  38.0   Fail\n6  George Harris  107.0  75.0  80.0  85.0   Pass\n7  Hannah Wilson    NaN  50.0  48.0  52.0   Fail\n8   Ian Martinez  109.0  88.0  92.0   NaN   Pass\n9     Jane Clark  110.0  68.0  70.0   NaN   Pass",
            "text/html": "<div>\n<style scoped>\n    .dataframe tbody tr th:only-of-type {\n        vertical-align: middle;\n    }\n\n    .dataframe tbody tr th {\n        vertical-align: top;\n    }\n\n    .dataframe thead th {\n        text-align: right;\n    }\n</style>\n<table border=\"1\" class=\"dataframe\">\n  <thead>\n    <tr style=\"text-align: right;\">\n      <th></th>\n      <th>Name</th>\n      <th>RegNo</th>\n      <th>m1</th>\n      <th>m2</th>\n      <th>m3</th>\n      <th>Result</th>\n    </tr>\n  </thead>\n  <tbody>\n    <tr>\n      <th>0</th>\n      <td>Alice Smith</td>\n      <td>101.0</td>\n      <td>85.0</td>\n      <td>90.0</td>\n      <td>88.0</td>\n      <td>Pass</td>\n    </tr>\n    <tr>\n      <th>1</th>\n      <td>Bob Johnson</td>\n      <td>102.0</td>\n      <td>70.0</td>\n      <td>NaN</td>\n      <td>80.0</td>\n      <td>Pass</td>\n    </tr>\n    <tr>\n      <th>2</th>\n      <td>Charlie Brown</td>\n      <td>103.0</td>\n      <td>45.0</td>\n      <td>50.0</td>\n      <td>NaN</td>\n      <td>Fail</td>\n    </tr>\n    <tr>\n      <th>3</th>\n      <td>Daisy Lee</td>\n      <td>104.0</td>\n      <td>NaN</td>\n      <td>88.0</td>\n      <td>95.0</td>\n      <td>Pass</td>\n    </tr>\n    <tr>\n      <th>4</th>\n      <td>Ethan Davis</td>\n      <td>105.0</td>\n      <td>60.0</td>\n      <td>58.0</td>\n      <td>65.0</td>\n      <td>Pass</td>\n    </tr>\n    <tr>\n      <th>5</th>\n      <td>Fiona Garcia</td>\n      <td>106.0</td>\n      <td>40.0</td>\n      <td>NaN</td>\n      <td>38.0</td>\n      <td>Fail</td>\n    </tr>\n    <tr>\n      <th>6</th>\n      <td>George Harris</td>\n      <td>107.0</td>\n      <td>75.0</td>\n      <td>80.0</td>\n      <td>85.0</td>\n      <td>Pass</td>\n    </tr>\n    <tr>\n      <th>7</th>\n      <td>Hannah Wilson</td>\n      <td>NaN</td>\n      <td>50.0</td>\n      <td>48.0</td>\n      <td>52.0</td>\n      <td>Fail</td>\n    </tr>\n    <tr>\n      <th>8</th>\n      <td>Ian Martinez</td>\n      <td>109.0</td>\n      <td>88.0</td>\n      <td>92.0</td>\n      <td>NaN</td>\n      <td>Pass</td>\n    </tr>\n    <tr>\n      <th>9</th>\n      <td>Jane Clark</td>\n      <td>110.0</td>\n      <td>68.0</td>\n      <td>70.0</td>\n      <td>NaN</td>\n      <td>Pass</td>\n    </tr>\n  </tbody>\n</table>\n</div>"
          },
          "metadata": {}
        }
      ],
      "execution_count": 6
    },
    {
      "cell_type": "code",
      "source": "df.describe()",
      "metadata": {
        "trusted": true
      },
      "outputs": [
        {
          "execution_count": 6,
          "output_type": "execute_result",
          "data": {
            "text/plain": "            RegNo         m1         m2         m3\ncount    9.000000   9.000000   8.000000   7.000000\nmean   105.222222  64.555556  72.000000  71.857143\nstd      3.073181  17.088820  18.142295  20.907962\nmin    101.000000  40.000000  48.000000  38.000000\n25%    103.000000  50.000000  56.000000  58.500000\n50%    105.000000  68.000000  75.000000  80.000000\n75%    107.000000  75.000000  88.500000  86.500000\nmax    110.000000  88.000000  92.000000  95.000000",
            "text/html": "<div>\n<style scoped>\n    .dataframe tbody tr th:only-of-type {\n        vertical-align: middle;\n    }\n\n    .dataframe tbody tr th {\n        vertical-align: top;\n    }\n\n    .dataframe thead th {\n        text-align: right;\n    }\n</style>\n<table border=\"1\" class=\"dataframe\">\n  <thead>\n    <tr style=\"text-align: right;\">\n      <th></th>\n      <th>RegNo</th>\n      <th>m1</th>\n      <th>m2</th>\n      <th>m3</th>\n    </tr>\n  </thead>\n  <tbody>\n    <tr>\n      <th>count</th>\n      <td>9.000000</td>\n      <td>9.000000</td>\n      <td>8.000000</td>\n      <td>7.000000</td>\n    </tr>\n    <tr>\n      <th>mean</th>\n      <td>105.222222</td>\n      <td>64.555556</td>\n      <td>72.000000</td>\n      <td>71.857143</td>\n    </tr>\n    <tr>\n      <th>std</th>\n      <td>3.073181</td>\n      <td>17.088820</td>\n      <td>18.142295</td>\n      <td>20.907962</td>\n    </tr>\n    <tr>\n      <th>min</th>\n      <td>101.000000</td>\n      <td>40.000000</td>\n      <td>48.000000</td>\n      <td>38.000000</td>\n    </tr>\n    <tr>\n      <th>25%</th>\n      <td>103.000000</td>\n      <td>50.000000</td>\n      <td>56.000000</td>\n      <td>58.500000</td>\n    </tr>\n    <tr>\n      <th>50%</th>\n      <td>105.000000</td>\n      <td>68.000000</td>\n      <td>75.000000</td>\n      <td>80.000000</td>\n    </tr>\n    <tr>\n      <th>75%</th>\n      <td>107.000000</td>\n      <td>75.000000</td>\n      <td>88.500000</td>\n      <td>86.500000</td>\n    </tr>\n    <tr>\n      <th>max</th>\n      <td>110.000000</td>\n      <td>88.000000</td>\n      <td>92.000000</td>\n      <td>95.000000</td>\n    </tr>\n  </tbody>\n</table>\n</div>"
          },
          "metadata": {}
        }
      ],
      "execution_count": 6
    },
    {
      "cell_type": "code",
      "source": "df.info()",
      "metadata": {
        "trusted": true,
        "scrolled": true
      },
      "outputs": [
        {
          "name": "stdout",
          "text": "<class 'pandas.core.frame.DataFrame'>\nRangeIndex: 10 entries, 0 to 9\nData columns (total 6 columns):\n #   Column  Non-Null Count  Dtype  \n---  ------  --------------  -----  \n 0   Name    10 non-null     object \n 1   RegNo   9 non-null      float64\n 2   m1      9 non-null      float64\n 3   m2      8 non-null      float64\n 4   m3      7 non-null      float64\n 5   Result  10 non-null     object \ndtypes: float64(4), object(2)\nmemory usage: 472.0+ bytes\n",
          "output_type": "stream"
        }
      ],
      "execution_count": 7
    },
    {
      "cell_type": "code",
      "source": "df.isnull().sum()",
      "metadata": {
        "trusted": true
      },
      "outputs": [
        {
          "execution_count": 8,
          "output_type": "execute_result",
          "data": {
            "text/plain": "Name      0\nRegNo     1\nm1        1\nm2        2\nm3        3\nResult    0\ndtype: int64"
          },
          "metadata": {}
        }
      ],
      "execution_count": 8
    },
    {
      "cell_type": "code",
      "source": "df.dtypes",
      "metadata": {
        "trusted": true
      },
      "outputs": [
        {
          "execution_count": 9,
          "output_type": "execute_result",
          "data": {
            "text/plain": "Name       object\nRegNo     float64\nm1        float64\nm2        float64\nm3        float64\nResult     object\ndtype: object"
          },
          "metadata": {}
        }
      ],
      "execution_count": 9
    },
    {
      "cell_type": "code",
      "source": "df.shape",
      "metadata": {
        "trusted": true
      },
      "outputs": [
        {
          "execution_count": 12,
          "output_type": "execute_result",
          "data": {
            "text/plain": "(10, 6)"
          },
          "metadata": {}
        }
      ],
      "execution_count": 12
    },
    {
      "cell_type": "code",
      "source": "filled_student_data = df.fillna(\"HI\") filled_student_data = df.fillna(\"HI\")\nfilled_student_data\nfilled_student_data",
      "metadata": {
        "trusted": true
      },
      "outputs": [
        {
          "execution_count": 14,
          "output_type": "execute_result",
          "data": {
            "text/plain": "            Name  RegNo    m1    m2    m3 Result\n0    Alice Smith  101.0  85.0  90.0  88.0   Pass\n1    Bob Johnson  102.0  70.0    HI  80.0   Pass\n2  Charlie Brown  103.0  45.0  50.0    HI   Fail\n3      Daisy Lee  104.0    HI  88.0  95.0   Pass\n4    Ethan Davis  105.0  60.0  58.0  65.0   Pass\n5   Fiona Garcia  106.0  40.0    HI  38.0   Fail\n6  George Harris  107.0  75.0  80.0  85.0   Pass\n7  Hannah Wilson     HI  50.0  48.0  52.0   Fail\n8   Ian Martinez  109.0  88.0  92.0    HI   Pass\n9     Jane Clark  110.0  68.0  70.0    HI   Pass",
            "text/html": "<div>\n<style scoped>\n    .dataframe tbody tr th:only-of-type {\n        vertical-align: middle;\n    }\n\n    .dataframe tbody tr th {\n        vertical-align: top;\n    }\n\n    .dataframe thead th {\n        text-align: right;\n    }\n</style>\n<table border=\"1\" class=\"dataframe\">\n  <thead>\n    <tr style=\"text-align: right;\">\n      <th></th>\n      <th>Name</th>\n      <th>RegNo</th>\n      <th>m1</th>\n      <th>m2</th>\n      <th>m3</th>\n      <th>Result</th>\n    </tr>\n  </thead>\n  <tbody>\n    <tr>\n      <th>0</th>\n      <td>Alice Smith</td>\n      <td>101.0</td>\n      <td>85.0</td>\n      <td>90.0</td>\n      <td>88.0</td>\n      <td>Pass</td>\n    </tr>\n    <tr>\n      <th>1</th>\n      <td>Bob Johnson</td>\n      <td>102.0</td>\n      <td>70.0</td>\n      <td>HI</td>\n      <td>80.0</td>\n      <td>Pass</td>\n    </tr>\n    <tr>\n      <th>2</th>\n      <td>Charlie Brown</td>\n      <td>103.0</td>\n      <td>45.0</td>\n      <td>50.0</td>\n      <td>HI</td>\n      <td>Fail</td>\n    </tr>\n    <tr>\n      <th>3</th>\n      <td>Daisy Lee</td>\n      <td>104.0</td>\n      <td>HI</td>\n      <td>88.0</td>\n      <td>95.0</td>\n      <td>Pass</td>\n    </tr>\n    <tr>\n      <th>4</th>\n      <td>Ethan Davis</td>\n      <td>105.0</td>\n      <td>60.0</td>\n      <td>58.0</td>\n      <td>65.0</td>\n      <td>Pass</td>\n    </tr>\n    <tr>\n      <th>5</th>\n      <td>Fiona Garcia</td>\n      <td>106.0</td>\n      <td>40.0</td>\n      <td>HI</td>\n      <td>38.0</td>\n      <td>Fail</td>\n    </tr>\n    <tr>\n      <th>6</th>\n      <td>George Harris</td>\n      <td>107.0</td>\n      <td>75.0</td>\n      <td>80.0</td>\n      <td>85.0</td>\n      <td>Pass</td>\n    </tr>\n    <tr>\n      <th>7</th>\n      <td>Hannah Wilson</td>\n      <td>HI</td>\n      <td>50.0</td>\n      <td>48.0</td>\n      <td>52.0</td>\n      <td>Fail</td>\n    </tr>\n    <tr>\n      <th>8</th>\n      <td>Ian Martinez</td>\n      <td>109.0</td>\n      <td>88.0</td>\n      <td>92.0</td>\n      <td>HI</td>\n      <td>Pass</td>\n    </tr>\n    <tr>\n      <th>9</th>\n      <td>Jane Clark</td>\n      <td>110.0</td>\n      <td>68.0</td>\n      <td>70.0</td>\n      <td>HI</td>\n      <td>Pass</td>\n    </tr>\n  </tbody>\n</table>\n</div>"
          },
          "metadata": {}
        }
      ],
      "execution_count": 14
    },
    {
      "cell_type": "code",
      "source": "filled_student_data = df.fillna(5)\nfilled_student_data",
      "metadata": {
        "trusted": true
      },
      "outputs": [
        {
          "execution_count": 15,
          "output_type": "execute_result",
          "data": {
            "text/plain": "            Name  RegNo    m1    m2    m3 Result\n0    Alice Smith  101.0  85.0  90.0  88.0   Pass\n1    Bob Johnson  102.0  70.0   5.0  80.0   Pass\n2  Charlie Brown  103.0  45.0  50.0   5.0   Fail\n3      Daisy Lee  104.0   5.0  88.0  95.0   Pass\n4    Ethan Davis  105.0  60.0  58.0  65.0   Pass\n5   Fiona Garcia  106.0  40.0   5.0  38.0   Fail\n6  George Harris  107.0  75.0  80.0  85.0   Pass\n7  Hannah Wilson    5.0  50.0  48.0  52.0   Fail\n8   Ian Martinez  109.0  88.0  92.0   5.0   Pass\n9     Jane Clark  110.0  68.0  70.0   5.0   Pass",
            "text/html": "<div>\n<style scoped>\n    .dataframe tbody tr th:only-of-type {\n        vertical-align: middle;\n    }\n\n    .dataframe tbody tr th {\n        vertical-align: top;\n    }\n\n    .dataframe thead th {\n        text-align: right;\n    }\n</style>\n<table border=\"1\" class=\"dataframe\">\n  <thead>\n    <tr style=\"text-align: right;\">\n      <th></th>\n      <th>Name</th>\n      <th>RegNo</th>\n      <th>m1</th>\n      <th>m2</th>\n      <th>m3</th>\n      <th>Result</th>\n    </tr>\n  </thead>\n  <tbody>\n    <tr>\n      <th>0</th>\n      <td>Alice Smith</td>\n      <td>101.0</td>\n      <td>85.0</td>\n      <td>90.0</td>\n      <td>88.0</td>\n      <td>Pass</td>\n    </tr>\n    <tr>\n      <th>1</th>\n      <td>Bob Johnson</td>\n      <td>102.0</td>\n      <td>70.0</td>\n      <td>5.0</td>\n      <td>80.0</td>\n      <td>Pass</td>\n    </tr>\n    <tr>\n      <th>2</th>\n      <td>Charlie Brown</td>\n      <td>103.0</td>\n      <td>45.0</td>\n      <td>50.0</td>\n      <td>5.0</td>\n      <td>Fail</td>\n    </tr>\n    <tr>\n      <th>3</th>\n      <td>Daisy Lee</td>\n      <td>104.0</td>\n      <td>5.0</td>\n      <td>88.0</td>\n      <td>95.0</td>\n      <td>Pass</td>\n    </tr>\n    <tr>\n      <th>4</th>\n      <td>Ethan Davis</td>\n      <td>105.0</td>\n      <td>60.0</td>\n      <td>58.0</td>\n      <td>65.0</td>\n      <td>Pass</td>\n    </tr>\n    <tr>\n      <th>5</th>\n      <td>Fiona Garcia</td>\n      <td>106.0</td>\n      <td>40.0</td>\n      <td>5.0</td>\n      <td>38.0</td>\n      <td>Fail</td>\n    </tr>\n    <tr>\n      <th>6</th>\n      <td>George Harris</td>\n      <td>107.0</td>\n      <td>75.0</td>\n      <td>80.0</td>\n      <td>85.0</td>\n      <td>Pass</td>\n    </tr>\n    <tr>\n      <th>7</th>\n      <td>Hannah Wilson</td>\n      <td>5.0</td>\n      <td>50.0</td>\n      <td>48.0</td>\n      <td>52.0</td>\n      <td>Fail</td>\n    </tr>\n    <tr>\n      <th>8</th>\n      <td>Ian Martinez</td>\n      <td>109.0</td>\n      <td>88.0</td>\n      <td>92.0</td>\n      <td>5.0</td>\n      <td>Pass</td>\n    </tr>\n    <tr>\n      <th>9</th>\n      <td>Jane Clark</td>\n      <td>110.0</td>\n      <td>68.0</td>\n      <td>70.0</td>\n      <td>5.0</td>\n      <td>Pass</td>\n    </tr>\n  </tbody>\n</table>\n</div>"
          },
          "metadata": {}
        }
      ],
      "execution_count": 15
    },
    {
      "cell_type": "code",
      "source": "df.fillna(method=\"ffill\")",
      "metadata": {
        "trusted": true
      },
      "outputs": [
        {
          "name": "stderr",
          "text": "<ipython-input-17-5a0d178a1f3e>:1: FutureWarning: DataFrame.fillna with 'method' is deprecated and will raise in a future version. Use obj.ffill() or obj.bfill() instead.\n  df.fillna(method=\"ffill\")\n",
          "output_type": "stream"
        },
        {
          "execution_count": 17,
          "output_type": "execute_result",
          "data": {
            "text/plain": "            Name  RegNo    m1    m2    m3 Result\n0    Alice Smith  101.0  85.0  90.0  88.0   Pass\n1    Bob Johnson  102.0  70.0  90.0  80.0   Pass\n2  Charlie Brown  103.0  45.0  50.0  80.0   Fail\n3      Daisy Lee  104.0  45.0  88.0  95.0   Pass\n4    Ethan Davis  105.0  60.0  58.0  65.0   Pass\n5   Fiona Garcia  106.0  40.0  58.0  38.0   Fail\n6  George Harris  107.0  75.0  80.0  85.0   Pass\n7  Hannah Wilson  107.0  50.0  48.0  52.0   Fail\n8   Ian Martinez  109.0  88.0  92.0  52.0   Pass\n9     Jane Clark  110.0  68.0  70.0  52.0   Pass",
            "text/html": "<div>\n<style scoped>\n    .dataframe tbody tr th:only-of-type {\n        vertical-align: middle;\n    }\n\n    .dataframe tbody tr th {\n        vertical-align: top;\n    }\n\n    .dataframe thead th {\n        text-align: right;\n    }\n</style>\n<table border=\"1\" class=\"dataframe\">\n  <thead>\n    <tr style=\"text-align: right;\">\n      <th></th>\n      <th>Name</th>\n      <th>RegNo</th>\n      <th>m1</th>\n      <th>m2</th>\n      <th>m3</th>\n      <th>Result</th>\n    </tr>\n  </thead>\n  <tbody>\n    <tr>\n      <th>0</th>\n      <td>Alice Smith</td>\n      <td>101.0</td>\n      <td>85.0</td>\n      <td>90.0</td>\n      <td>88.0</td>\n      <td>Pass</td>\n    </tr>\n    <tr>\n      <th>1</th>\n      <td>Bob Johnson</td>\n      <td>102.0</td>\n      <td>70.0</td>\n      <td>90.0</td>\n      <td>80.0</td>\n      <td>Pass</td>\n    </tr>\n    <tr>\n      <th>2</th>\n      <td>Charlie Brown</td>\n      <td>103.0</td>\n      <td>45.0</td>\n      <td>50.0</td>\n      <td>80.0</td>\n      <td>Fail</td>\n    </tr>\n    <tr>\n      <th>3</th>\n      <td>Daisy Lee</td>\n      <td>104.0</td>\n      <td>45.0</td>\n      <td>88.0</td>\n      <td>95.0</td>\n      <td>Pass</td>\n    </tr>\n    <tr>\n      <th>4</th>\n      <td>Ethan Davis</td>\n      <td>105.0</td>\n      <td>60.0</td>\n      <td>58.0</td>\n      <td>65.0</td>\n      <td>Pass</td>\n    </tr>\n    <tr>\n      <th>5</th>\n      <td>Fiona Garcia</td>\n      <td>106.0</td>\n      <td>40.0</td>\n      <td>58.0</td>\n      <td>38.0</td>\n      <td>Fail</td>\n    </tr>\n    <tr>\n      <th>6</th>\n      <td>George Harris</td>\n      <td>107.0</td>\n      <td>75.0</td>\n      <td>80.0</td>\n      <td>85.0</td>\n      <td>Pass</td>\n    </tr>\n    <tr>\n      <th>7</th>\n      <td>Hannah Wilson</td>\n      <td>107.0</td>\n      <td>50.0</td>\n      <td>48.0</td>\n      <td>52.0</td>\n      <td>Fail</td>\n    </tr>\n    <tr>\n      <th>8</th>\n      <td>Ian Martinez</td>\n      <td>109.0</td>\n      <td>88.0</td>\n      <td>92.0</td>\n      <td>52.0</td>\n      <td>Pass</td>\n    </tr>\n    <tr>\n      <th>9</th>\n      <td>Jane Clark</td>\n      <td>110.0</td>\n      <td>68.0</td>\n      <td>70.0</td>\n      <td>52.0</td>\n      <td>Pass</td>\n    </tr>\n  </tbody>\n</table>\n</div>"
          },
          "metadata": {}
        }
      ],
      "execution_count": 17
    },
    {
      "cell_type": "code",
      "source": "df.fillna(method=\"bfill\")",
      "metadata": {
        "trusted": true
      },
      "outputs": [
        {
          "name": "stderr",
          "text": "<ipython-input-18-6bd2f34f2c60>:1: FutureWarning: DataFrame.fillna with 'method' is deprecated and will raise in a future version. Use obj.ffill() or obj.bfill() instead.\n  df.fillna(method=\"bfill\")\n",
          "output_type": "stream"
        },
        {
          "execution_count": 18,
          "output_type": "execute_result",
          "data": {
            "text/plain": "            Name  RegNo    m1    m2    m3 Result\n0    Alice Smith  101.0  85.0  90.0  88.0   Pass\n1    Bob Johnson  102.0  70.0  50.0  80.0   Pass\n2  Charlie Brown  103.0  45.0  50.0  95.0   Fail\n3      Daisy Lee  104.0  60.0  88.0  95.0   Pass\n4    Ethan Davis  105.0  60.0  58.0  65.0   Pass\n5   Fiona Garcia  106.0  40.0  80.0  38.0   Fail\n6  George Harris  107.0  75.0  80.0  85.0   Pass\n7  Hannah Wilson  109.0  50.0  48.0  52.0   Fail\n8   Ian Martinez  109.0  88.0  92.0   NaN   Pass\n9     Jane Clark  110.0  68.0  70.0   NaN   Pass",
            "text/html": "<div>\n<style scoped>\n    .dataframe tbody tr th:only-of-type {\n        vertical-align: middle;\n    }\n\n    .dataframe tbody tr th {\n        vertical-align: top;\n    }\n\n    .dataframe thead th {\n        text-align: right;\n    }\n</style>\n<table border=\"1\" class=\"dataframe\">\n  <thead>\n    <tr style=\"text-align: right;\">\n      <th></th>\n      <th>Name</th>\n      <th>RegNo</th>\n      <th>m1</th>\n      <th>m2</th>\n      <th>m3</th>\n      <th>Result</th>\n    </tr>\n  </thead>\n  <tbody>\n    <tr>\n      <th>0</th>\n      <td>Alice Smith</td>\n      <td>101.0</td>\n      <td>85.0</td>\n      <td>90.0</td>\n      <td>88.0</td>\n      <td>Pass</td>\n    </tr>\n    <tr>\n      <th>1</th>\n      <td>Bob Johnson</td>\n      <td>102.0</td>\n      <td>70.0</td>\n      <td>50.0</td>\n      <td>80.0</td>\n      <td>Pass</td>\n    </tr>\n    <tr>\n      <th>2</th>\n      <td>Charlie Brown</td>\n      <td>103.0</td>\n      <td>45.0</td>\n      <td>50.0</td>\n      <td>95.0</td>\n      <td>Fail</td>\n    </tr>\n    <tr>\n      <th>3</th>\n      <td>Daisy Lee</td>\n      <td>104.0</td>\n      <td>60.0</td>\n      <td>88.0</td>\n      <td>95.0</td>\n      <td>Pass</td>\n    </tr>\n    <tr>\n      <th>4</th>\n      <td>Ethan Davis</td>\n      <td>105.0</td>\n      <td>60.0</td>\n      <td>58.0</td>\n      <td>65.0</td>\n      <td>Pass</td>\n    </tr>\n    <tr>\n      <th>5</th>\n      <td>Fiona Garcia</td>\n      <td>106.0</td>\n      <td>40.0</td>\n      <td>80.0</td>\n      <td>38.0</td>\n      <td>Fail</td>\n    </tr>\n    <tr>\n      <th>6</th>\n      <td>George Harris</td>\n      <td>107.0</td>\n      <td>75.0</td>\n      <td>80.0</td>\n      <td>85.0</td>\n      <td>Pass</td>\n    </tr>\n    <tr>\n      <th>7</th>\n      <td>Hannah Wilson</td>\n      <td>109.0</td>\n      <td>50.0</td>\n      <td>48.0</td>\n      <td>52.0</td>\n      <td>Fail</td>\n    </tr>\n    <tr>\n      <th>8</th>\n      <td>Ian Martinez</td>\n      <td>109.0</td>\n      <td>88.0</td>\n      <td>92.0</td>\n      <td>NaN</td>\n      <td>Pass</td>\n    </tr>\n    <tr>\n      <th>9</th>\n      <td>Jane Clark</td>\n      <td>110.0</td>\n      <td>68.0</td>\n      <td>70.0</td>\n      <td>NaN</td>\n      <td>Pass</td>\n    </tr>\n  </tbody>\n</table>\n</div>"
          },
          "metadata": {}
        }
      ],
      "execution_count": 18
    },
    {
      "cell_type": "code",
      "source": "df.interpolate()",
      "metadata": {
        "trusted": true
      },
      "outputs": [
        {
          "name": "stderr",
          "text": "<ipython-input-8-11c47216a02d>:1: FutureWarning: DataFrame.interpolate with object dtype is deprecated and will raise in a future version. Call obj.infer_objects(copy=False) before interpolating instead.\n  df.interpolate()\n",
          "output_type": "stream"
        },
        {
          "execution_count": 8,
          "output_type": "execute_result",
          "data": {
            "text/plain": "            Name  RegNo    m1    m2    m3 Result\n0    Alice Smith  101.0  85.0  90.0  88.0   Pass\n1    Bob Johnson  102.0  70.0  70.0  80.0   Pass\n2  Charlie Brown  103.0  45.0  50.0  87.5   Fail\n3      Daisy Lee  104.0  52.5  88.0  95.0   Pass\n4    Ethan Davis  105.0  60.0  58.0  65.0   Pass\n5   Fiona Garcia  106.0  40.0  69.0  38.0   Fail\n6  George Harris  107.0  75.0  80.0  85.0   Pass\n7  Hannah Wilson  108.0  50.0  48.0  52.0   Fail\n8   Ian Martinez  109.0  88.0  92.0  52.0   Pass\n9     Jane Clark  110.0  68.0  70.0  52.0   Pass",
            "text/html": "<div>\n<style scoped>\n    .dataframe tbody tr th:only-of-type {\n        vertical-align: middle;\n    }\n\n    .dataframe tbody tr th {\n        vertical-align: top;\n    }\n\n    .dataframe thead th {\n        text-align: right;\n    }\n</style>\n<table border=\"1\" class=\"dataframe\">\n  <thead>\n    <tr style=\"text-align: right;\">\n      <th></th>\n      <th>Name</th>\n      <th>RegNo</th>\n      <th>m1</th>\n      <th>m2</th>\n      <th>m3</th>\n      <th>Result</th>\n    </tr>\n  </thead>\n  <tbody>\n    <tr>\n      <th>0</th>\n      <td>Alice Smith</td>\n      <td>101.0</td>\n      <td>85.0</td>\n      <td>90.0</td>\n      <td>88.0</td>\n      <td>Pass</td>\n    </tr>\n    <tr>\n      <th>1</th>\n      <td>Bob Johnson</td>\n      <td>102.0</td>\n      <td>70.0</td>\n      <td>70.0</td>\n      <td>80.0</td>\n      <td>Pass</td>\n    </tr>\n    <tr>\n      <th>2</th>\n      <td>Charlie Brown</td>\n      <td>103.0</td>\n      <td>45.0</td>\n      <td>50.0</td>\n      <td>87.5</td>\n      <td>Fail</td>\n    </tr>\n    <tr>\n      <th>3</th>\n      <td>Daisy Lee</td>\n      <td>104.0</td>\n      <td>52.5</td>\n      <td>88.0</td>\n      <td>95.0</td>\n      <td>Pass</td>\n    </tr>\n    <tr>\n      <th>4</th>\n      <td>Ethan Davis</td>\n      <td>105.0</td>\n      <td>60.0</td>\n      <td>58.0</td>\n      <td>65.0</td>\n      <td>Pass</td>\n    </tr>\n    <tr>\n      <th>5</th>\n      <td>Fiona Garcia</td>\n      <td>106.0</td>\n      <td>40.0</td>\n      <td>69.0</td>\n      <td>38.0</td>\n      <td>Fail</td>\n    </tr>\n    <tr>\n      <th>6</th>\n      <td>George Harris</td>\n      <td>107.0</td>\n      <td>75.0</td>\n      <td>80.0</td>\n      <td>85.0</td>\n      <td>Pass</td>\n    </tr>\n    <tr>\n      <th>7</th>\n      <td>Hannah Wilson</td>\n      <td>108.0</td>\n      <td>50.0</td>\n      <td>48.0</td>\n      <td>52.0</td>\n      <td>Fail</td>\n    </tr>\n    <tr>\n      <th>8</th>\n      <td>Ian Martinez</td>\n      <td>109.0</td>\n      <td>88.0</td>\n      <td>92.0</td>\n      <td>52.0</td>\n      <td>Pass</td>\n    </tr>\n    <tr>\n      <th>9</th>\n      <td>Jane Clark</td>\n      <td>110.0</td>\n      <td>68.0</td>\n      <td>70.0</td>\n      <td>52.0</td>\n      <td>Pass</td>\n    </tr>\n  </tbody>\n</table>\n</div>"
          },
          "metadata": {}
        }
      ],
      "execution_count": 8
    },
    {
      "cell_type": "code",
      "source": "df.dropna()",
      "metadata": {
        "trusted": true
      },
      "outputs": [
        {
          "execution_count": 9,
          "output_type": "execute_result",
          "data": {
            "text/plain": "            Name  RegNo    m1    m2    m3 Result\n0    Alice Smith  101.0  85.0  90.0  88.0   Pass\n4    Ethan Davis  105.0  60.0  58.0  65.0   Pass\n6  George Harris  107.0  75.0  80.0  85.0   Pass",
            "text/html": "<div>\n<style scoped>\n    .dataframe tbody tr th:only-of-type {\n        vertical-align: middle;\n    }\n\n    .dataframe tbody tr th {\n        vertical-align: top;\n    }\n\n    .dataframe thead th {\n        text-align: right;\n    }\n</style>\n<table border=\"1\" class=\"dataframe\">\n  <thead>\n    <tr style=\"text-align: right;\">\n      <th></th>\n      <th>Name</th>\n      <th>RegNo</th>\n      <th>m1</th>\n      <th>m2</th>\n      <th>m3</th>\n      <th>Result</th>\n    </tr>\n  </thead>\n  <tbody>\n    <tr>\n      <th>0</th>\n      <td>Alice Smith</td>\n      <td>101.0</td>\n      <td>85.0</td>\n      <td>90.0</td>\n      <td>88.0</td>\n      <td>Pass</td>\n    </tr>\n    <tr>\n      <th>4</th>\n      <td>Ethan Davis</td>\n      <td>105.0</td>\n      <td>60.0</td>\n      <td>58.0</td>\n      <td>65.0</td>\n      <td>Pass</td>\n    </tr>\n    <tr>\n      <th>6</th>\n      <td>George Harris</td>\n      <td>107.0</td>\n      <td>75.0</td>\n      <td>80.0</td>\n      <td>85.0</td>\n      <td>Pass</td>\n    </tr>\n  </tbody>\n</table>\n</div>"
          },
          "metadata": {}
        }
      ],
      "execution_count": 9
    }
  ]
}